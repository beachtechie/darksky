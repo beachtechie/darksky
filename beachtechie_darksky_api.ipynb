{
 "cells": [
  {
   "cell_type": "code",
   "execution_count": null,
   "metadata": {},
   "outputs": [],
   "source": [
    "import pandas as pd\n",
    "from datetime import datetime\n",
    "from time import mktime\n",
    "from tqdm.notebook import tqdm\n",
    "import requests\n",
    "import json \n",
    "from pathlib import Path"
   ]
  },
  {
   "cell_type": "code",
   "execution_count": null,
   "metadata": {},
   "outputs": [],
   "source": [
    "api_url = 'https://api.darksky.net/forecast'\n",
    "api_key = 'API_KEY'\n",
    "# Uncomment to stuff files someplace other than the current directory.  This will create it\n",
    "# data_dir = Path('WHERE/YOU/WANT/THE/DATA').mkdir(parents=True, exist_ok=True)\n",
    "data_dir = Path.cwd()"
   ]
  },
  {
   "cell_type": "markdown",
   "metadata": {},
   "source": [
    "URL format:\n",
    "```\n",
    "https://api.darksky.net/forecast/[key]/[latitude],[longitude],[time]\n",
    "```\n",
    "or\n",
    "```\n",
    "url = f\"{api_url}/{api_key}/{latitude},{longitude},{time}\"\n",
    "```\n"
   ]
  },
  {
   "cell_type": "markdown",
   "metadata": {},
   "source": [
    "## Load a DF with the lat/long and dates we want"
   ]
  },
  {
   "cell_type": "code",
   "execution_count": null,
   "metadata": {},
   "outputs": [],
   "source": [
    "df = pd.read_csv('./api_events.csv', index_col=0)"
   ]
  },
  {
   "cell_type": "code",
   "execution_count": null,
   "metadata": {},
   "outputs": [],
   "source": [
    "print(len(df))\n",
    "df.head()"
   ]
  },
  {
   "cell_type": "code",
   "execution_count": null,
   "metadata": {},
   "outputs": [],
   "source": [
    "# We're gonna use loops, so let's not use pandas anymore, lest we be shamefully mocked\n",
    "records = df.to_dict(orient='records')"
   ]
  },
  {
   "cell_type": "code",
   "execution_count": null,
   "metadata": {},
   "outputs": [],
   "source": [
    "# In case we don't want to do this all at once:\n",
    "limit = 500"
   ]
  },
  {
   "cell_type": "code",
   "execution_count": null,
   "metadata": {},
   "outputs": [],
   "source": [
    "# This let's us write to the status bar.  It's cute\n",
    "pbar = tqdm(records[:limit])\n",
    "for record in pbar:\n",
    "    # See?!?\n",
    "    pbar.set_description(f\"[{record['lat']:.5}/{record['long']:.5}] {record['index']}\")\n",
    "    \n",
    "    # If we're restarting batches and we've already written this file, don't fetch it again\n",
    "    # (hopefully we didn't write garbage)\n",
    "    if Path(data_dir / f\"{record['index']}.json\").is_file():\n",
    "        continue\n",
    "       \n",
    "    # Set our URL params\n",
    "    lat = record['lat']\n",
    "    lng = record['long']\n",
    "    dt = mktime(datetime.strptime(record['date'], '%Y-%m-%d').timetuple()) \n",
    "    \n",
    "    url = f\"{api_url}/{api_key}/{lat},{lng},{dt}\"\n",
    "   \n",
    "    # Test API URL\n",
    "    # url = f\"https://www.metaweather.com/api/location/search/?lattlong={lat},{lng}\"\n",
    "    try:\n",
    "        resp = requests.get(url)\n",
    "        resp.raise_for_status()\n",
    "    except:\n",
    "        # The only thing worse than nakedly catching all exceptions...\n",
    "        pass\n",
    "    \n",
    "    try:\n",
    "        doc = resp.json()\n",
    "    except:\n",
    "        # ...is silently masking them\n",
    "        pass\n",
    "    else:\n",
    "        with open(Path(data_dir / f\"{record['index']}.json\"), 'w') as f:\n",
    "            json.dump(doc, f)\n",
    "        \n",
    "    # Should we sleep?"
   ]
  },
  {
   "cell_type": "code",
   "execution_count": null,
   "metadata": {},
   "outputs": [],
   "source": []
  }
 ],
 "metadata": {
  "kernelspec": {
   "display_name": "Python 3.7.3 64-bit ('sports': conda)",
   "language": "python",
   "name": "python37364bitsportsconda0d793ce9d4494a3f8cf0082e2ef13777"
  },
  "language_info": {
   "codemirror_mode": {
    "name": "ipython",
    "version": 3
   },
   "file_extension": ".py",
   "mimetype": "text/x-python",
   "name": "python",
   "nbconvert_exporter": "python",
   "pygments_lexer": "ipython3",
   "version": "3.7.3"
  }
 },
 "nbformat": 4,
 "nbformat_minor": 2
}
